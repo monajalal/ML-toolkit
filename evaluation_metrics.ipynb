{
 "cells": [
  {
   "cell_type": "code",
   "execution_count": 5,
   "metadata": {},
   "outputs": [
    {
     "name": "stdout",
     "output_type": "stream",
     "text": [
      "TN: 5, FP: 1, FN: 2, TP: 2\n",
      "cm[0,0]: 5, cm[1,0]: 2, cm[0,1]: 1, cm[1,1]: 2\n"
     ]
    }
   ],
   "source": [
    "from sklearn.metrics import confusion_matrix\n",
    "\n",
    "actual = [1,0,0,1,0,0,1,0,0,1]\n",
    "predicted = [1,0,0,1,0,0,0,1,0,0]\n",
    "cm = confusion_matrix(actual, predicted)\n",
    "tn, fp, fn, tp = confusion_matrix(actual, predicted).ravel()\n",
    "print('TN: {}, FP: {}, FN: {}, TP: {}'. format(tn, fp, fn, tp))\n",
    "epoch_specifity = cm[0,0]/ (cm[0,0] + cm[0,1])\n",
    "epoch_sensitivity = cm[1,1]/ (cm[1,0] + cm[1,1])\n",
    "print('cm[0,0]: {}, cm[1,0]: {}, cm[0,1]: {}, cm[1,1]: {}'.format(cm[0,0], cm[1,0], cm[0,1], cm[1,1]))"
   ]
  },
  {
   "cell_type": "code",
   "execution_count": 3,
   "metadata": {},
   "outputs": [
    {
     "data": {
      "text/plain": [
       "array([[5, 1],\n",
       "       [2, 2]])"
      ]
     },
     "execution_count": 3,
     "metadata": {},
     "output_type": "execute_result"
    }
   ],
   "source": [
    "cm"
   ]
  }
 ],
 "metadata": {
  "interpreter": {
   "hash": "c97926d1df33ffe37fcbb08a9995b543be4f74d5cde3e59fe0f9d1a35ffab252"
  },
  "kernelspec": {
   "display_name": "Python 3.8.10 ('dpcc')",
   "language": "python",
   "name": "python3"
  },
  "language_info": {
   "codemirror_mode": {
    "name": "ipython",
    "version": 3
   },
   "file_extension": ".py",
   "mimetype": "text/x-python",
   "name": "python",
   "nbconvert_exporter": "python",
   "pygments_lexer": "ipython3",
   "version": "3.8.10"
  },
  "orig_nbformat": 4
 },
 "nbformat": 4,
 "nbformat_minor": 2
}
